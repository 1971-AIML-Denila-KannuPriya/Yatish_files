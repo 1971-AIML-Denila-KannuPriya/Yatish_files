{
 "cells": [
  {
   "attachments": {},
   "cell_type": "markdown",
   "id": "924def2b-31a4-4edf-b5fe-7514951d525a",
   "metadata": {},
   "source": [
    "Duplicates in a list:"
   ]
  },
  {
   "cell_type": "code",
   "execution_count": 1,
   "id": "fbd1316e-4820-45fa-a577-95705b1cceeb",
   "metadata": {},
   "outputs": [],
   "source": [
    "def find_duplicates(lst):\n",
    "    duplicates = []\n",
    "    for item in lst:\n",
    "        if lst.count(item) > 1 and item not in duplicates:\n",
    "            duplicates.append(item)\n",
    "    return duplicates\n",
    "\n",
    "lst = list(map(int, input(\"Enter list elements separated by space: \").split()))\n",
    "print(\"Duplicates:\", find_duplicates(lst))\n"
   ]
  },
  {
   "cell_type": "markdown",
   "id": "a2d7788f-dcbe-4d31-935f-eafa0e1a9abc",
   "metadata": {},
   "source": [
    "2.Check if a string is a valid palindrome:"
   ]
  },
  {
   "cell_type": "code",
   "execution_count": 6,
   "id": "15d4aaf3-f00e-4e4a-a00c-a3948f5c90df",
   "metadata": {},
   "outputs": [
    {
     "name": "stdout",
     "output_type": "stream",
     "text": [
      "Enter a string:  malayalam\n"
     ]
    },
    {
     "name": "stdout",
     "output_type": "stream",
     "text": [
      "Is palindrome: True\n"
     ]
    }
   ],
   "source": [
    "def is_palindrome(s):\n",
    "    s = ''.join(filter(str.isalnum, s)).lower()\n",
    "    return s == s[::-1]\n",
    "\n",
    "s = input(\"Enter a string: \")\n",
    "print(\"Is palindrome:\", is_palindrome(s))\n"
   ]
  },
  {
   "cell_type": "markdown",
   "id": "f80c4aac-4bed-4ee5-9bff-df4897bfd545",
   "metadata": {},
   "source": [
    "3.Find the prime factors of a number:"
   ]
  },
  {
   "cell_type": "code",
   "execution_count": 7,
   "id": "cd8bfb91-6e11-4a75-979a-92fba171b6ff",
   "metadata": {},
   "outputs": [
    {
     "name": "stdout",
     "output_type": "stream",
     "text": [
      "Enter a number:  36\n"
     ]
    },
    {
     "name": "stdout",
     "output_type": "stream",
     "text": [
      "Prime factors: [2, 2, 3, 3]\n"
     ]
    }
   ],
   "source": [
    "def prime_factors(n):\n",
    "    i = 2\n",
    "    factors = []\n",
    "    while i * i <= n:\n",
    "        if n % i == 0:\n",
    "            factors.append(i)\n",
    "            n //= i\n",
    "        else:\n",
    "            i += 1\n",
    "    if n > 1:\n",
    "        factors.append(n)\n",
    "    return factors\n",
    "\n",
    "n = int(input(\"Enter a number: \"))\n",
    "print(\"Prime factors:\", prime_factors(n))\n"
   ]
  },
  {
   "cell_type": "markdown",
   "id": "6b1f80f1-0d5b-4d46-af43-cc32cfb4630a",
   "metadata": {},
   "source": [
    "4.Count the number of words in a sentence:"
   ]
  },
  {
   "cell_type": "code",
   "execution_count": 8,
   "id": "562a565f-29f8-4a5c-9d08-348efc6c2d5e",
   "metadata": {},
   "outputs": [
    {
     "name": "stdout",
     "output_type": "stream",
     "text": [
      "Enter a sentence:  hii my name is vivekavardhan\n"
     ]
    },
    {
     "name": "stdout",
     "output_type": "stream",
     "text": [
      "Number of words: 5\n"
     ]
    }
   ],
   "source": [
    "def word_count(sentence):\n",
    "    words = sentence.split()\n",
    "    return len(words)\n",
    "\n",
    "sentence = input(\"Enter a sentence: \")\n",
    "print(\"Number of words:\", word_count(sentence))\n"
   ]
  },
  {
   "cell_type": "markdown",
   "id": "6c8be92b-53b4-4eac-8f9e-a9520e00f62e",
   "metadata": {},
   "source": [
    "5.Rotate a list:\n"
   ]
  },
  {
   "cell_type": "code",
   "execution_count": 10,
   "id": "c64252e5-b420-4138-aeaa-4d1afc363ebc",
   "metadata": {},
   "outputs": [
    {
     "name": "stdout",
     "output_type": "stream",
     "text": [
      "Enter list elements separated by space:  2 3 4 2 3 4 5 6 7 8 9 \n",
      "Enter the number of steps to rotate:  2\n"
     ]
    },
    {
     "name": "stdout",
     "output_type": "stream",
     "text": [
      "Rotated list: [8, 9, 2, 3, 4, 2, 3, 4, 5, 6, 7]\n"
     ]
    }
   ],
   "source": [
    "def rotate_list(lst, steps):\n",
    "    steps = steps % len(lst)\n",
    "    return lst[-steps:] + lst[:-steps]\n",
    "\n",
    "lst = list(map(int, input(\"Enter list elements separated by space: \").split()))\n",
    "steps = int(input(\"Enter the number of steps to rotate: \"))\n",
    "print(\"Rotated list:\", rotate_list(lst, steps))\n",
    "\n"
   ]
  },
  {
   "cell_type": "markdown",
   "id": "f9a956d3-8088-46dc-9172-73567a2ce44e",
   "metadata": {},
   "source": [
    "6.Find the first repeating character in a string:"
   ]
  },
  {
   "cell_type": "code",
   "execution_count": 12,
   "id": "878e3380-45e2-4702-96ad-e42996cd9acd",
   "metadata": {},
   "outputs": [
    {
     "name": "stdout",
     "output_type": "stream",
     "text": [
      "Enter a string:  vivekavardhan\n"
     ]
    },
    {
     "name": "stdout",
     "output_type": "stream",
     "text": [
      "First repeating character: v\n"
     ]
    }
   ],
   "source": [
    "def first_repeating_char(s):\n",
    "    seen = set()\n",
    "    for char in s:\n",
    "        if char in seen:\n",
    "            return char\n",
    "        seen.add(char)\n",
    "    return None\n",
    "\n",
    "s = input(\"Enter a string: \")\n",
    "print(\"First repeating character:\", first_repeating_char(s))\n"
   ]
  },
  {
   "cell_type": "markdown",
   "id": "58670036-3c58-439a-8daf-979260ffc0a8",
   "metadata": {},
   "source": [
    "7.Merge two dictionaries:"
   ]
  },
  {
   "cell_type": "code",
   "execution_count": 15,
   "id": "5148847f-f344-4653-95be-6da2ff186352",
   "metadata": {},
   "outputs": [
    {
     "name": "stdout",
     "output_type": "stream",
     "text": [
      "Enter first dictionary:  {'a': 10, 'b': 20, 'c': 30}\n",
      "Enter second dictionary:  {'b': 5, 'c': 15, 'd': 25}\n"
     ]
    },
    {
     "name": "stdout",
     "output_type": "stream",
     "text": [
      "Merged dictionary: {'a': 10, 'b': 25, 'c': 45, 'd': 25}\n"
     ]
    }
   ],
   "source": [
    "def merge_dicts(dict1, dict2):\n",
    "    merged_dict = dict1.copy()\n",
    "    for key, value in dict2.items():\n",
    "        if key in merged_dict:\n",
    "            merged_dict[key] += value\n",
    "        else:\n",
    "            merged_dict[key] = value\n",
    "    return merged_dict\n",
    "\n",
    "dict1 = eval(input(\"Enter first dictionary: \"))\n",
    "dict2 = eval(input(\"Enter second dictionary: \"))\n",
    "print(\"Merged dictionary:\", merge_dicts(dict1, dict2))\n"
   ]
  },
  {
   "cell_type": "markdown",
   "id": "a1d4bd5a-e684-4c76-b00b-19edc3d18dcb",
   "metadata": {},
   "source": [
    "8.Find all pairs in an array that sum to a specific target:"
   ]
  },
  {
   "cell_type": "code",
   "execution_count": 16,
   "id": "48986b5c-3d78-4f29-b77a-7f5954f5f533",
   "metadata": {},
   "outputs": [
    {
     "name": "stdout",
     "output_type": "stream",
     "text": [
      "Enter list elements separated by space:  4 5 4 3 2 1 5 6 7 8 4\n",
      "Enter the target sum:  10\n"
     ]
    },
    {
     "name": "stdout",
     "output_type": "stream",
     "text": [
      "Pairs: [(5, 5), (4, 6), (3, 7), (2, 8), (6, 4)]\n"
     ]
    }
   ],
   "source": [
    "def find_pairs(lst, target):\n",
    "    pairs = []\n",
    "    seen = set()\n",
    "    for num in lst:\n",
    "        complement = target - num\n",
    "        if complement in seen:\n",
    "            pairs.append((complement, num))\n",
    "        seen.add(num)\n",
    "    return pairs\n",
    "\n",
    "lst = list(map(int, input(\"Enter list elements separated by space: \").split()))\n",
    "target = int(input(\"Enter the target sum: \"))\n",
    "print(\"Pairs:\", find_pairs(lst, target))\n"
   ]
  },
  {
   "cell_type": "markdown",
   "id": "49ecc638-27ca-4165-ade4-75f5ffcadb33",
   "metadata": {},
   "source": [
    "9.Implement a stack using a list:"
   ]
  },
  {
   "cell_type": "code",
   "execution_count": 18,
   "id": "0d362e75-97b1-46ac-90d1-800ccd0ca58c",
   "metadata": {},
   "outputs": [
    {
     "name": "stdout",
     "output_type": "stream",
     "text": [
      "Enter push <item>, pop, peek, or quit:  push 10\n",
      "Enter push <item>, pop, peek, or quit:  push 20\n",
      "Enter push <item>, pop, peek, or quit:  peek\n"
     ]
    },
    {
     "name": "stdout",
     "output_type": "stream",
     "text": [
      "Top element: 20\n"
     ]
    },
    {
     "name": "stdout",
     "output_type": "stream",
     "text": [
      "Enter push <item>, pop, peek, or quit:  pop\n"
     ]
    },
    {
     "name": "stdout",
     "output_type": "stream",
     "text": [
      "Popped: 20\n"
     ]
    },
    {
     "name": "stdout",
     "output_type": "stream",
     "text": [
      "Enter push <item>, pop, peek, or quit:  peek\n"
     ]
    },
    {
     "name": "stdout",
     "output_type": "stream",
     "text": [
      "Top element: 10\n"
     ]
    },
    {
     "name": "stdout",
     "output_type": "stream",
     "text": [
      "Enter push <item>, pop, peek, or quit:  pop\n"
     ]
    },
    {
     "name": "stdout",
     "output_type": "stream",
     "text": [
      "Popped: 10\n"
     ]
    },
    {
     "name": "stdout",
     "output_type": "stream",
     "text": [
      "Enter push <item>, pop, peek, or quit:  peek\n"
     ]
    },
    {
     "name": "stdout",
     "output_type": "stream",
     "text": [
      "Top element: None\n"
     ]
    },
    {
     "name": "stdout",
     "output_type": "stream",
     "text": [
      "Enter push <item>, pop, peek, or quit:  quit\n"
     ]
    }
   ],
   "source": [
    "class Stack:\n",
    "    def __init__(self):\n",
    "        self.stack = []\n",
    "\n",
    "    def push(self, item):\n",
    "        self.stack.append(item)\n",
    "\n",
    "    def pop(self):\n",
    "        return self.stack.pop() if not self.is_empty() else None\n",
    "\n",
    "    def peek(self):\n",
    "        return self.stack[-1] if not self.is_empty() else None\n",
    "\n",
    "    def is_empty(self):\n",
    "        return len(self.stack) == 0\n",
    "\n",
    "stack = Stack()\n",
    "while True:\n",
    "    choice = input(\"Enter push <item>, pop, peek, or quit: \").split()\n",
    "    if choice[0] == \"push\":\n",
    "        stack.push(choice[1])\n",
    "    elif choice[0] == \"pop\":\n",
    "        print(\"Popped:\", stack.pop())\n",
    "    elif choice[0] == \"peek\":\n",
    "        print(\"Top element:\", stack.peek())\n",
    "    elif choice[0] == \"quit\":\n",
    "        break\n"
   ]
  },
  {
   "cell_type": "markdown",
   "id": "0a81ae5d-bab6-4d98-b42f-b6c6eb4d4ab0",
   "metadata": {},
   "source": [
    "10.Find the longest substring without repeating characters:"
   ]
  },
  {
   "cell_type": "code",
   "execution_count": 19,
   "id": "b93d1c22-9390-4d57-83a2-e83872f5c330",
   "metadata": {},
   "outputs": [
    {
     "name": "stdout",
     "output_type": "stream",
     "text": [
      "Enter a string:  vivekvardhan\n"
     ]
    },
    {
     "name": "stdout",
     "output_type": "stream",
     "text": [
      "Length of longest substring without repeating characters: 7\n"
     ]
    }
   ],
   "source": [
    "def longest_unique_substring(s):\n",
    "    start = 0\n",
    "    max_len = 0\n",
    "    seen = {}\n",
    "    for i, char in enumerate(s):\n",
    "        if char in seen and seen[char] >= start:\n",
    "            start = seen[char] + 1\n",
    "        max_len = max(max_len, i - start + 1)\n",
    "        seen[char] = i\n",
    "    return max_len\n",
    "\n",
    "s = input(\"Enter a string: \")\n",
    "print(\"Length of longest substring without repeating characters:\", longest_unique_substring(s))\n"
   ]
  },
  {
   "cell_type": "markdown",
   "id": "521f4215-8453-4ab2-999b-c3240b82b134",
   "metadata": {},
   "source": [
    "11.Generate all combinations of a set:"
   ]
  },
  {
   "cell_type": "code",
   "execution_count": 21,
   "id": "8a534a40-b075-46b8-a3c1-e21960a7dcea",
   "metadata": {},
   "outputs": [
    {
     "name": "stdout",
     "output_type": "stream",
     "text": [
      "Enter list elements separated by space:  2 3 44 5\n"
     ]
    },
    {
     "name": "stdout",
     "output_type": "stream",
     "text": [
      "All combinations: [(2,), (3,), (44,), (5,), (2, 3), (2, 44), (2, 5), (3, 44), (3, 5), (44, 5), (2, 3, 44), (2, 3, 5), (2, 44, 5), (3, 44, 5), (2, 3, 44, 5)]\n"
     ]
    }
   ],
   "source": [
    "from itertools import combinations\n",
    "\n",
    "def generate_combinations(lst):\n",
    "    all_combinations = []\n",
    "    for r in range(1, len(lst) + 1):\n",
    "        all_combinations.extend(list(combinations(lst, r)))\n",
    "    return all_combinations\n",
    "\n",
    "lst = list(map(int, input(\"Enter list elements separated by space: \").split()))\n",
    "print(\"All combinations:\", generate_combinations(lst))\n"
   ]
  },
  {
   "cell_type": "markdown",
   "id": "29ef1cb8-81a6-440b-8a0d-f6dc76f829a9",
   "metadata": {},
   "source": [
    "12. Check if two strings are anagrams:"
   ]
  },
  {
   "cell_type": "code",
   "execution_count": 22,
   "id": "e7be4bbc-02a0-4e6e-83ae-37bd308c216e",
   "metadata": {},
   "outputs": [
    {
     "name": "stdout",
     "output_type": "stream",
     "text": [
      "Enter the first string:  earth\n",
      "Enter the second string:  heart\n"
     ]
    },
    {
     "name": "stdout",
     "output_type": "stream",
     "text": [
      "Are anagrams: True\n"
     ]
    }
   ],
   "source": [
    "def are_anagrams(str1, str2):\n",
    "    return sorted(str1.replace(\" \", \"\").lower()) == sorted(str2.replace(\" \", \"\").lower())\n",
    "\n",
    "str1 = input(\"Enter the first string: \")\n",
    "str2 = input(\"Enter the second string: \")\n",
    "print(\"Are anagrams:\", are_anagrams(str1, str2))\n"
   ]
  },
  {
   "cell_type": "markdown",
   "id": "ba23d523-ef84-43fc-a818-7e46c74fda0c",
   "metadata": {},
   "source": [
    "13.Find the median of a list of numbers:"
   ]
  },
  {
   "cell_type": "code",
   "execution_count": 23,
   "id": "be1d913a-9a45-4f2c-9d9c-4fd62d2ccf1d",
   "metadata": {},
   "outputs": [
    {
     "name": "stdout",
     "output_type": "stream",
     "text": [
      "Enter list elements separated by space:  22 33 23 24\n"
     ]
    },
    {
     "name": "stdout",
     "output_type": "stream",
     "text": [
      "Median: 23.5\n"
     ]
    }
   ],
   "source": [
    "def find_median(lst):\n",
    "    lst.sort()\n",
    "    n = len(lst)\n",
    "    mid = n // 2\n",
    "    return (lst[mid] + lst[~mid]) / 2\n",
    "\n",
    "lst = list(map(int, input(\"Enter list elements separated by space: \").split()))\n",
    "print(\"Median:\", find_median(lst))\n"
   ]
  },
  {
   "cell_type": "markdown",
   "id": "0ea82d28-31a8-4123-a8b6-6ec464684a7e",
   "metadata": {},
   "source": [
    "14.Implement a binary search tree:"
   ]
  },
  {
   "cell_type": "code",
   "execution_count": 24,
   "id": "915860f4-552e-4819-80a2-25a6c481b1e7",
   "metadata": {},
   "outputs": [
    {
     "name": "stdout",
     "output_type": "stream",
     "text": [
      "Enter elements to insert into BST:  50 30 70 20 40 60 80\n",
      "Enter a value to search in BST:  40\n"
     ]
    },
    {
     "name": "stdout",
     "output_type": "stream",
     "text": [
      "Found: True\n"
     ]
    }
   ],
   "source": [
    "class Node:\n",
    "    def __init__(self, key):\n",
    "        self.left = None\n",
    "        self.right = None\n",
    "        self.value = key\n",
    "\n",
    "class BinarySearchTree:\n",
    "    def __init__(self):\n",
    "        self.root = None\n",
    "\n",
    "    def insert(self, value):\n",
    "        if self.root is None:\n",
    "            self.root = Node(value)\n",
    "        else:\n",
    "            self._insert(self.root, value)\n",
    "\n",
    "    def _insert(self, current, value):\n",
    "        if value < current.value:\n",
    "            if current.left is None:\n",
    "                current.left = Node(value)\n",
    "            else:\n",
    "                self._insert(current.left, value)\n",
    "        else:\n",
    "            if current.right is None:\n",
    "                current.right = Node(value)\n",
    "            else:\n",
    "                self._insert(current.right, value)\n",
    "\n",
    "    def search(self, value):\n",
    "        return self._search(self.root, value)\n",
    "\n",
    "    def _search(self, current, value):\n",
    "        if current is None:\n",
    "            return False\n",
    "        if current.value == value:\n",
    "            return True\n",
    "        if value < current.value:\n",
    "            return self._search(current.left, value)\n",
    "        return self._search(current.right, value)\n",
    "\n",
    "bst = BinarySearchTree()\n",
    "elements = list(map(int, input(\"Enter elements to insert into BST: \").split()))\n",
    "for element in elements:\n",
    "    bst.insert(element)\n",
    "\n",
    "search_value = int(input(\"Enter a value to search in BST: \"))\n",
    "print(\"Found:\", bst.search(search_value))\n"
   ]
  },
  {
   "cell_type": "markdown",
   "id": "5700e066-272e-4980-93a6-a9959133b44a",
   "metadata": {},
   "source": [
    "15.Check if a given year is a leap year:"
   ]
  },
  {
   "cell_type": "code",
   "execution_count": 25,
   "id": "25d3f579-4697-4847-b00e-14ee4f0d50fe",
   "metadata": {},
   "outputs": [
    {
     "name": "stdout",
     "output_type": "stream",
     "text": [
      "Enter a year:  2024\n"
     ]
    },
    {
     "name": "stdout",
     "output_type": "stream",
     "text": [
      "Is leap year: True\n"
     ]
    }
   ],
   "source": [
    "def is_leap_year(year):\n",
    "    return (year % 4 == 0 and year % 100 != 0) or (year % 400 == 0)\n",
    "\n",
    "year = int(input(\"Enter a year: \"))\n",
    "print(\"Is leap year:\", is_leap_year(year))\n"
   ]
  },
  {
   "cell_type": "markdown",
   "id": "a36d4ffc-b6ad-483c-8591-9d1ba374a4dc",
   "metadata": {},
   "source": [
    "16.Find the kth smallest element in an array:"
   ]
  },
  {
   "cell_type": "code",
   "execution_count": 26,
   "id": "9102146c-968d-4cb2-9df1-903ea98d46fd",
   "metadata": {},
   "outputs": [
    {
     "name": "stdout",
     "output_type": "stream",
     "text": [
      "Enter list elements separated by space:  22 32 43 12 11 10 5 3 24\n",
      "Enter the value of k:  3\n"
     ]
    },
    {
     "name": "stdout",
     "output_type": "stream",
     "text": [
      "3th smallest element: 10\n"
     ]
    }
   ],
   "source": [
    "def kth_smallest(lst, k):\n",
    "    lst.sort()\n",
    "    return lst[k - 1] if 0 < k <= len(lst) else None\n",
    "\n",
    "lst = list(map(int, input(\"Enter list elements separated by space: \").split()))\n",
    "k = int(input(\"Enter the value of k: \"))\n",
    "print(f\"{k}th smallest element:\", kth_smallest(lst, k))\n"
   ]
  },
  {
   "cell_type": "markdown",
   "id": "c4c11b17-69da-49c6-bf3a-e7b984f019ea",
   "metadata": {},
   "source": [
    "17.Sum of digits in a number:"
   ]
  },
  {
   "cell_type": "code",
   "execution_count": 27,
   "id": "bf40eb8e-12ef-4c40-ad46-c97160dae086",
   "metadata": {},
   "outputs": [
    {
     "name": "stdout",
     "output_type": "stream",
     "text": [
      "Enter a number:  1211\n"
     ]
    },
    {
     "name": "stdout",
     "output_type": "stream",
     "text": [
      "Sum of digits: 5\n"
     ]
    }
   ],
   "source": [
    "def sum_of_digits(n):\n",
    "    if n == 0:\n",
    "        return 0\n",
    "    return n % 10 + sum_of_digits(n // 10)\n",
    "\n",
    "n = int(input(\"Enter a number: \"))\n",
    "print(\"Sum of digits:\", sum_of_digits(n))\n"
   ]
  },
  {
   "cell_type": "markdown",
   "id": "befdf4b8-d71a-499d-a51d-8dc34ae188ff",
   "metadata": {},
   "source": [
    "18.Count the number of uppercase and lowercase letters:"
   ]
  },
  {
   "cell_type": "code",
   "execution_count": 29,
   "id": "0efaae38-7c3c-40c6-91b7-bfcd78cac27f",
   "metadata": {},
   "outputs": [
    {
     "name": "stdout",
     "output_type": "stream",
     "text": [
      "Enter a string:  RevATuRe\n"
     ]
    },
    {
     "name": "stdout",
     "output_type": "stream",
     "text": [
      "Uppercase letters: 4, Lowercase letters: 4\n"
     ]
    }
   ],
   "source": [
    "def count_case(s):\n",
    "    uppercase = sum(1 for char in s if char.isupper())\n",
    "    lowercase = sum(1 for char in s if char.islower())\n",
    "    return uppercase, lowercase\n",
    "\n",
    "s = input(\"Enter a string: \")\n",
    "upper, lower = count_case(s)\n",
    "print(f\"Uppercase letters: {upper}, Lowercase letters: {lower}\")\n"
   ]
  },
  {
   "cell_type": "markdown",
   "id": "9eae36fb-9f7f-43f4-b09b-abe1043a9079",
   "metadata": {},
   "source": [
    "19.Implement the bubble sort algorithm:"
   ]
  },
  {
   "cell_type": "code",
   "execution_count": 30,
   "id": "b1aef707-042c-4e66-bbbe-f0f9e06ea5ef",
   "metadata": {},
   "outputs": [
    {
     "name": "stdout",
     "output_type": "stream",
     "text": [
      "Enter list elements separated by space:  22 12 3 4 22 3 44\n"
     ]
    },
    {
     "name": "stdout",
     "output_type": "stream",
     "text": [
      "Sorted list: [3, 3, 4, 12, 22, 22, 44]\n"
     ]
    }
   ],
   "source": [
    "def bubble_sort(lst):\n",
    "    n = len(lst)\n",
    "    for i in range(n):\n",
    "        for j in range(0, n - i - 1):\n",
    "            if lst[j] > lst[j + 1]:\n",
    "                lst[j], lst[j + 1] = lst[j + 1], lst[j]\n",
    "    return lst\n",
    "\n",
    "lst = list(map(int, input(\"Enter list elements separated by space: \").split()))\n",
    "print(\"Sorted list:\", bubble_sort(lst))\n"
   ]
  },
  {
   "cell_type": "markdown",
   "id": "b3072b0a-7732-4345-b06d-1399bdfbb2c6",
   "metadata": {},
   "source": [
    "20.Find the intersection of two lists:"
   ]
  },
  {
   "cell_type": "code",
   "execution_count": null,
   "id": "b57b9cdf-d537-4712-98bd-9f51d9b3d9c4",
   "metadata": {},
   "outputs": [
    {
     "name": "stdout",
     "output_type": "stream",
     "text": [
      "Enter elements of first list:  2 3 4 9 8 \n"
     ]
    }
   ],
   "source": [
    "def intersection(lst1, lst2):\n",
    "    return list(set(lst1) & set(lst2))\n",
    "\n",
    "lst1 = list(map(int, input(\"Enter elements of first list: \").split()))\n",
    "lst2 = list(map(int, input(\"Enter elements of second list: \").split()))\n",
    "print(\"Intersection:\", intersection(lst1, lst2))\n"
   ]
  },
  {
   "cell_type": "code",
   "execution_count": null,
   "id": "0937aac6-f53e-4530-aa11-ed6c11f79f42",
   "metadata": {},
   "outputs": [],
   "source": []
  }
 ],
 "metadata": {
  "kernelspec": {
   "display_name": "Python 3 (ipykernel)",
   "language": "python",
   "name": "python3"
  },
  "language_info": {
   "codemirror_mode": {
    "name": "ipython",
    "version": 3
   },
   "file_extension": ".py",
   "mimetype": "text/x-python",
   "name": "python",
   "nbconvert_exporter": "python",
   "pygments_lexer": "ipython3",
   "version": "3.12.4"
  }
 },
 "nbformat": 4,
 "nbformat_minor": 5
}
