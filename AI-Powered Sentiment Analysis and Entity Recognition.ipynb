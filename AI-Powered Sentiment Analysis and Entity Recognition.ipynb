{
 "cells": [
  {
   "cell_type": "code",
   "execution_count": null,
   "metadata": {},
   "outputs": [],
   "source": [
    "from azure.ai.textanalytics import TextAnalyticsClient\n",
    "from azure.core.credentials import AzureKeyCredential\n",
    "from azure.ai.translation.document import DocumentTranslationClient, TranslatorCredential\n",
    "\n",
    "# Replace with your Azure credentials and endpoint\n",
    "text_analytics_key = \"8ae68db6742b4ee9a8447bb388fb3f27\"\n",
    "text_analytics_endpoint = \"https://project2revature-prediction.cognitiveservices.azure.com/customvision/v3.0/Prediction/bfe46c0a-7f3f-4e3f-9b9b-f4fa44dc7ecd/classify/iterations/Iteration1/image\"\n",
    "\n",
    "\n",
    "translator_key = \"c721a4fe4cc2457583f177564fbf697e\"\n",
    "translator_endpoint =  \"https://openrevaturep2.openai.azure.com/\"\n",
    "\n",
    "\n",
    "# Initialize the Text Analytics client\n",
    "text_analytics_client = TextAnalyticsClient(\n",
    "    endpoint=text_analytics_endpoint, \n",
    "    credential=AzureKeyCredential(text_analytics_key)\n",
    ")\n",
    "\n",
    "# Initialize the Translator client\n",
    "translator_client = DocumentTranslationClient(\n",
    "    endpoint=translator_endpoint,\n",
    "    credential=TranslatorCredential(translator_key)\n",
    ")\n"
   ]
  },
  {
   "attachments": {},
   "cell_type": "markdown",
   "metadata": {},
   "source": [
    "Data Preprocessing and Translation"
   ]
  },
  {
   "cell_type": "code",
   "execution_count": null,
   "metadata": {},
   "outputs": [],
   "source": [
    "def translate_text(text, target_language='en'):\n",
    "    response = translator_client.translate(\n",
    "        content=text, \n",
    "        target_language=target_language\n",
    "    )\n",
    "    return response.translations[0].text\n",
    "\n",
    "# Example of translation\n",
    "review = \"Este es un buen producto\"\n",
    "translated_review = translate_text(review)\n",
    "print(translated_review)  # Outputs: \"This is a good product\"\n"
   ]
  },
  {
   "attachments": {},
   "cell_type": "markdown",
   "metadata": {},
   "source": [
    "Sentiment Analysis"
   ]
  },
  {
   "cell_type": "code",
   "execution_count": null,
   "metadata": {},
   "outputs": [],
   "source": [
    "def analyze_sentiment(reviews):\n",
    "    response = text_analytics_client.analyze_sentiment(documents=reviews)\n",
    "    sentiment_results = []\n",
    "    for result in response:\n",
    "        sentiment_results.append({\n",
    "            \"text\": result.text,\n",
    "            \"sentiment\": result.sentiment,\n",
    "            \"confidence_scores\": result.confidence_scores\n",
    "        })\n",
    "    return sentiment_results\n",
    "\n",
    "# Example of sentiment analysis\n",
    "reviews = [translated_review]  # List of reviews\n",
    "sentiments = analyze_sentiment(reviews)\n",
    "print(sentiments)\n"
   ]
  },
  {
   "attachments": {},
   "cell_type": "markdown",
   "metadata": {},
   "source": [
    "Named Entity Recognition (NER) and Key Phrase Extraction"
   ]
  },
  {
   "cell_type": "code",
   "execution_count": null,
   "metadata": {},
   "outputs": [],
   "source": [
    "def extract_entities_and_key_phrases(reviews):\n",
    "    response = text_analytics_client.recognize_entities(documents=reviews)\n",
    "    key_phrases_response = text_analytics_client.extract_key_phrases(documents=reviews)\n",
    "\n",
    "    entity_results = []\n",
    "    for idx, result in enumerate(response):\n",
    "        entities = [entity.text for entity in result.entities]\n",
    "        key_phrases = key_phrases_response[idx].key_phrases\n",
    "        entity_results.append({\n",
    "            \"text\": result.text,\n",
    "            \"entities\": entities,\n",
    "            \"key_phrases\": key_phrases\n",
    "        })\n",
    "    return entity_results\n",
    "\n",
    "# Example of entity recognition and key phrase extraction\n",
    "entities_key_phrases = extract_entities_and_key_phrases(reviews)\n",
    "print(entities_key_phrases)\n"
   ]
  },
  {
   "attachments": {},
   "cell_type": "markdown",
   "metadata": {},
   "source": [
    "Data Storage"
   ]
  },
  {
   "cell_type": "code",
   "execution_count": null,
   "metadata": {},
   "outputs": [],
   "source": [
    "import sqlite3\n",
    "\n",
    "# Connect to SQLite database\n",
    "conn = sqlite3.connect('reviews_analysis.db')\n",
    "c = conn.cursor()\n",
    "\n",
    "# Create table\n",
    "c.execute('''CREATE TABLE IF NOT EXISTS ReviewsAnalysis \n",
    "             (text TEXT, sentiment TEXT, entities TEXT, key_phrases TEXT)''')\n",
    "\n",
    "# Insert data\n",
    "for result in entities_key_phrases:\n",
    "    c.execute(\"INSERT INTO ReviewsAnalysis (text, sentiment, entities, key_phrases) VALUES (?, ?, ?, ?)\", \n",
    "              (result['text'], result['sentiment'], ', '.join(result['entities']), ', '.join(result['key_phrases'])))\n",
    "\n",
    "# Commit and close\n",
    "conn.commit()\n",
    "conn.close()\n"
   ]
  },
  {
   "attachments": {},
   "cell_type": "markdown",
   "metadata": {},
   "source": [
    "Data Visualization"
   ]
  },
  {
   "cell_type": "code",
   "execution_count": null,
   "metadata": {},
   "outputs": [],
   "source": [
    "import matplotlib.pyplot as plt\n",
    "\n",
    "def plot_sentiment_distribution(sentiment_results):\n",
    "    sentiments = [result[\"sentiment\"] for result in sentiment_results]\n",
    "    sentiment_counts = {sentiment: sentiments.count(sentiment) for sentiment in set(sentiments)}\n",
    "    \n",
    "    plt.bar(sentiment_counts.keys(), sentiment_counts.values())\n",
    "    plt.title(\"Sentiment Distribution\")\n",
    "    plt.xlabel(\"Sentiment\")\n",
    "    plt.ylabel(\"Count\")\n",
    "    plt.show()\n",
    "\n",
    "plot_sentiment_distribution(sentiments)\n"
   ]
  }
 ],
 "metadata": {
  "language_info": {
   "name": "python"
  },
  "orig_nbformat": 4
 },
 "nbformat": 4,
 "nbformat_minor": 2
}
