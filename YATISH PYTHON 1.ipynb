{
 "cells": [
  {
   "attachments": {},
   "cell_type": "markdown",
   "id": "3fac5a81-1cb4-404e-baa7-f5b6b4eb437f",
   "metadata": {},
   "source": [
    "1 . Find the second largest element in a list(dont using max variable)"
   ]
  },
  {
   "cell_type": "code",
   "execution_count": 1,
   "id": "546aad3f-4a56-4aed-acfa-e70abad5c9f7",
   "metadata": {},
   "outputs": [
    {
     "name": "stdout",
     "output_type": "stream",
     "text": [
      "The second largest number is: 28\n"
     ]
    }
   ],
   "source": [
    "def l(numbers):\n",
    "    return sorted(set(numbers))[-2]\n",
    "numbers = [15,28,99,13,5]\n",
    "print(\"The second largest number is:\", l(numbers))"
   ]
  },
  {
   "cell_type": "code",
   "execution_count": 2,
   "id": "2af5f126-838c-42b0-b23a-7ec850c16c72",
   "metadata": {},
   "outputs": [
    {
     "name": "stdout",
     "output_type": "stream",
     "text": [
      "The Second Largest Element is: 25\n"
     ]
    }
   ],
   "source": [
    "x = [21,23,24,25,56]\n",
    "\n",
    "largest = x[0]\n",
    "second_largest = None\n",
    "for num in x:\n",
    "    if num > largest:\n",
    "        second_largest = largest\n",
    "        largest = num\n",
    "    elif second_largest is None or (num > second_largest and num != largest):\n",
    "        second_largest = num\n",
    "print(f\"The Second Largest Element is: {second_largest}\")"
   ]
  },
  {
   "cell_type": "markdown",
   "id": "02f52fa8-f0ae-4009-b27b-fad20a63ae72",
   "metadata": {},
   "source": [
    " 2.Check if a number is prime."
   ]
  },
  {
   "cell_type": "code",
   "execution_count": 22,
   "id": "cc11b543-fa10-4d40-a751-7342e021555c",
   "metadata": {},
   "outputs": [
    {
     "name": "stdout",
     "output_type": "stream",
     "text": [
      "Enter a number:  7\n"
     ]
    },
    {
     "name": "stdout",
     "output_type": "stream",
     "text": [
      "7 is a prime number\n"
     ]
    }
   ],
   "source": [
    "def is_prime(num):\n",
    "    if num < 2:\n",
    "        return False\n",
    "    count = 0\n",
    "    for i in range(2, num + 1):\n",
    "        if num % i == 0:\n",
    "            count += 1\n",
    "    return count == 1 \n",
    "num = int(input(\" number: \"))\n",
    "if is_prime(num):\n",
    "    print(f\"{num} is a prime number\")\n",
    "else:\n",
    "    print(f\"{num} is not a prime number\")\n"
   ]
  },
  {
   "cell_type": "markdown",
   "id": "a991a2d3-7c86-4160-9f24-6ac9bc3b13cb",
   "metadata": {},
   "source": [
    "3.Reverse a string"
   ]
  },
  {
   "cell_type": "code",
   "execution_count": 3,
   "id": "c49d57e0-7d38-4dda-805c-60c464fe9712",
   "metadata": {},
   "outputs": [
    {
     "name": "stdout",
     "output_type": "stream",
     "text": [
      "hsitay\n"
     ]
    }
   ],
   "source": [
    "Str = \"yatish\"\n",
    "reversed = \"\"\n",
    "for char in Str:\n",
    "    reversed = char + reversed\n",
    "print(reversed)"
   ]
  },
  {
   "cell_type": "markdown",
   "id": "3463b187-d7d0-44c8-88b1-d5317c81e2d9",
   "metadata": {},
   "source": [
    "4. Merge two sorted arrays into a single sorted array without using any built-in sort\n",
    " methods."
   ]
  },
  {
   "cell_type": "code",
   "execution_count": 27,
   "id": "5c4c14e8-5ff8-4d34-87fe-c797f68acb31",
   "metadata": {},
   "outputs": [
    {
     "name": "stdout",
     "output_type": "stream",
     "text": [
      "[1, 1, 2, 3, 5, 6, 7, 8]\n"
     ]
    }
   ],
   "source": [
    "def merge_and_sort_arrays(arr1, arr2):\n",
    "    merged = arr1 + arr2  \n",
    "    for i in range(1, len(merged)):\n",
    "        key = merged[i]  \n",
    "        j = i - 1\n",
    "\n",
    "        while j >= 0 and merged[j] > key:\n",
    "            merged[j + 1] = merged[j]\n",
    "            j -= 1\n",
    "        merged[j + 1] = key  \n",
    "\n",
    "    return merged\n",
    "arr1 = [1, 3, 5, 7]  \n",
    "arr2 = [2, 1, 6, 8]  \n",
    "\n",
    "result = merge_and_sort_arrays(arr1, arr2)\n",
    "\n",
    "print(result) \n"
   ]
  },
  {
   "cell_type": "markdown",
   "id": "accb6960-e0de-4d39-ac79-a9e4ecddd64a",
   "metadata": {},
   "source": [
    "5.Factorial"
   ]
  },
  {
   "cell_type": "code",
   "execution_count": 28,
   "id": "11aeb4f3-bfc1-46cf-b2f1-8f8fa9e84aa5",
   "metadata": {},
   "outputs": [
    {
     "name": "stdout",
     "output_type": "stream",
     "text": [
      "Enter a number to calculate its factorial:  26\n"
     ]
    },
    {
     "name": "stdout",
     "output_type": "stream",
     "text": [
      "The factorial of 26 is: 403291461126605635584000000\n"
     ]
    }
   ],
   "source": [
    "def factorial(n):\n",
    "    if n == 0 or n == 1:\n",
    "        return 1\n",
    "    else:\n",
    "        return n * factorial(n - 1)\n",
    "\n",
    "num = int(input(\"Enter a number to calculate its factorial: \"))\n",
    "\n",
    "result = factorial(num)\n",
    "print(f\"The factorial of {num} is: {result}\")\n"
   ]
  },
  {
   "cell_type": "markdown",
   "id": "3dfe3c72-b7d3-425c-af0b-66e45b7dae83",
   "metadata": {},
   "source": [
    " 6.Find the largest contiguous subarray sum (Kadane’s Algorithm)."
   ]
  },
  {
   "cell_type": "code",
   "execution_count": 29,
   "id": "5a54014a-91ef-4b3d-8c94-feb96ddb61c6",
   "metadata": {},
   "outputs": [
    {
     "name": "stdout",
     "output_type": "stream",
     "text": [
      "The largest contiguous subarray sum is: 6\n"
     ]
    }
   ],
   "source": [
    "def kadane_algorithm(arr):\n",
    "    max_current = max_global = arr[0]\n",
    "\n",
    "    for i in range(1, len(arr)):\n",
    "        max_current = max(arr[i], max_current + arr[i])\n",
    "        if max_current > max_global:\n",
    "            max_global = max_current\n",
    "\n",
    "    return max_global\n",
    "arr = [-2, 1, -3, 4, -1, 2, 1, -5, 4]\n",
    "largest_sum = kadane_algorithm(arr)\n",
    "print(f\"The largest contiguous subarray sum is: {largest_sum}\")\n"
   ]
  },
  {
   "cell_type": "markdown",
   "id": "1e2a3b47-e8b3-4fb0-a7b8-d55769006db7",
   "metadata": {},
   "source": [
    "7. Check if a given string is a palindrome."
   ]
  },
  {
   "cell_type": "code",
   "execution_count": 31,
   "id": "8982f900-47e6-4a9f-a808-8fe4f8b9c64c",
   "metadata": {},
   "outputs": [
    {
     "name": "stdout",
     "output_type": "stream",
     "text": [
      "Enter a string:  malayalam\n"
     ]
    },
    {
     "name": "stdout",
     "output_type": "stream",
     "text": [
      "\"malayalam\" is a palindrome.\n"
     ]
    }
   ],
   "source": [
    "def is_palindrome(s):\n",
    "    s = s.replace(\" \", \"\").lower()\n",
    "    return s == s[::-1]  \n",
    "input_string = input(\"Enter a string: \")\n",
    "if is_palindrome(input_string):\n",
    "    print(f'\"{input_string}\" is a palindrome.')\n",
    "else:\n",
    "    print(f'\"{input_string}\" is not a palindrome.')\n"
   ]
  },
  {
   "cell_type": "markdown",
   "id": "2e1ff09d-95b0-46cb-9c57-82db9ac0d503",
   "metadata": {},
   "source": [
    "8.Convert a decimal number to binary without using built-in functions."
   ]
  },
  {
   "cell_type": "code",
   "execution_count": 32,
   "id": "e7e8df90-5285-4290-b5fa-435bdc576118",
   "metadata": {},
   "outputs": [
    {
     "name": "stdout",
     "output_type": "stream",
     "text": [
      "The binary representation of 10 is 1010.\n"
     ]
    }
   ],
   "source": [
    "def decimal_to_binary(n):\n",
    "    if n == 0:\n",
    "        return \"0\"\n",
    "    binary = \"\"  \n",
    "    while n > 0:\n",
    "        remainder = n % 2  \n",
    "        binary = str(remainder) + binary\n",
    "        n = n // 2  \n",
    "    \n",
    "    return binary\n",
    "decimal_number = 10\n",
    "binary_representation = decimal_to_binary(decimal_number)\n",
    "print(f\"The binary representation of {decimal_number} is {binary_representation}.\")  \n"
   ]
  },
  {
   "cell_type": "markdown",
   "id": "508abcd9-662d-4a48-adb6-496f11d5cd4b",
   "metadata": {},
   "source": [
    "9. Find pairs in an array with a given sum."
   ]
  },
  {
   "cell_type": "code",
   "execution_count": 33,
   "id": "0ffc5eb1-3ded-4286-bb5b-85c700f2d564",
   "metadata": {},
   "outputs": [
    {
     "name": "stdout",
     "output_type": "stream",
     "text": [
      "Pairs with sum 6: [(1, 5), (7, -1), (1, 5)]\n"
     ]
    }
   ],
   "source": [
    "def find_pairs_with_sum(arr, target_sum):\n",
    "    seen = set()  \n",
    "    pairs = []\n",
    "\n",
    "    for number in arr:\n",
    "        complement = target_sum - number\n",
    "        if complement in seen:\n",
    "            pairs.append((complement, number))\n",
    "        seen.add(number)\n",
    "    return pairs\n",
    "array = [1, 5, 7, -1, 5]\n",
    "target_sum = 6\n",
    "result_pairs = find_pairs_with_sum(array, target_sum)\n",
    "print(f\"Pairs with sum {target_sum}: {result_pairs}\") \n"
   ]
  },
  {
   "cell_type": "markdown",
   "id": "e6612f1f-17b7-4d93-969b-31938804f679",
   "metadata": {},
   "source": [
    "10. Count the frequency of elements in a list."
   ]
  },
  {
   "cell_type": "code",
   "execution_count": 34,
   "id": "daa844bf-e385-4435-89b2-40cd004a8d8c",
   "metadata": {},
   "outputs": [
    {
     "name": "stdout",
     "output_type": "stream",
     "text": [
      "Frequency of elements: {1: 2, 2: 2, 3: 1, 4: 1, 5: 3}\n"
     ]
    }
   ],
   "source": [
    "def count_frequency(elements):\n",
    "    frequency = {} \n",
    "    for element in elements:\n",
    "        if element in frequency:\n",
    "            frequency[element] += 1  \n",
    "        else:\n",
    "            frequency[element] = 1 \n",
    "\n",
    "    return frequency\n",
    "my_list = [1, 2, 2, 3, 1, 4, 5, 5, 5]\n",
    "frequency_count = count_frequency(my_list)\n",
    "print(\"Frequency of elements:\", frequency_count)  \n"
   ]
  },
  {
   "cell_type": "markdown",
   "id": "aea35abd-750c-4219-8325-247eb1370bcf",
   "metadata": {},
   "source": [
    "11. Fibonacci sequence: Write a program to generate the first N numbers in the Fibonacci\n",
    " sequence using recursion."
   ]
  },
  {
   "cell_type": "code",
   "execution_count": 37,
   "id": "d4794aca-4eb2-445d-b094-c8f9b8f61768",
   "metadata": {},
   "outputs": [
    {
     "name": "stdout",
     "output_type": "stream",
     "text": [
      "The first 10 numbers in the Fibonacci sequence: [0, 1, 1, 2, 3, 5, 8, 13, 21, 34]\n"
     ]
    }
   ],
   "source": [
    "def fibonacci(n):\n",
    "    # Base cases\n",
    "    if n == 0:\n",
    "        return 0\n",
    "    elif n == 1:\n",
    "        return 1\n",
    "    else:\n",
    "        return fibonacci(n - 1) + fibonacci(n - 2)\n",
    "def generate_fibonacci_sequence(N):\n",
    "    fibonacci_sequence = []\n",
    "    for i in range(N):\n",
    "        fibonacci_sequence.append(fibonacci(i))  \n",
    "    return fibonacci_sequence\n",
    "N = 10 \n",
    "fib_sequence = generate_fibonacci_sequence(N)\n",
    "print(f\"The first {N} numbers in the Fibonacci sequence: {fib_sequence}\")\n"
   ]
  },
  {
   "cell_type": "markdown",
   "id": "5c5b5c21-4c28-4a1c-a67f-c815ac77aba1",
   "metadata": {},
   "source": [
    "12. Remove duplicates from a list: Write a program to remove duplicate elements from a\n",
    " list while preserving the order of elements."
   ]
  },
  {
   "cell_type": "code",
   "execution_count": 38,
   "id": "08459509-18c2-41c6-8ac9-e1286f039a25",
   "metadata": {},
   "outputs": [
    {
     "name": "stdout",
     "output_type": "stream",
     "text": [
      "List after removing duplicates: [1, 2, 3, 4, 5, 6]\n"
     ]
    }
   ],
   "source": [
    "def remove_duplicates(original_list):\n",
    "    unique_list = []  \n",
    "    seen = set()      \n",
    "    for element in original_list:\n",
    "        if element not in seen:\n",
    "            unique_list.append(element) \n",
    "            seen.add(element)           \n",
    "    return unique_list\n",
    "\n",
    "my_list = [1, 2, 3, 2, 4, 3, 5, 1, 6, 4]\n",
    "unique_elements = remove_duplicates(my_list)\n",
    "print(\"List after removing duplicates:\", unique_elements)\n"
   ]
  },
  {
   "cell_type": "markdown",
   "id": "3547bfc6-a099-48fd-9be8-339add94f235",
   "metadata": {},
   "source": [
    "13. Anagram check: Write a Python function that checks if two strings are anagrams of each\n",
    " other (i.e., if they contain the same characters in any order)."
   ]
  },
  {
   "cell_type": "code",
   "execution_count": 4,
   "id": "259a8f06-a81f-41d6-8417-0ae5d6df7381",
   "metadata": {},
   "outputs": [
    {
     "name": "stdout",
     "output_type": "stream",
     "text": [
      "'yatish' and 'nayan' are not anagrams.\n"
     ]
    }
   ],
   "source": [
    "def are_anagrams(str1, str2):\n",
    "    str1 = str1.replace(\" \", \"\").lower()\n",
    "    str2 = str2.replace(\" \", \"\").lower()\n",
    "    return sorted(str1) == sorted(str2)\n",
    "string1 = \"yatish\"\n",
    "string2 = \"nayan\"\n",
    "if are_anagrams(string1, string2):\n",
    "    print(f\"'{string1}' and '{string2}' are anagrams.\")\n",
    "else:\n",
    "    print(f\"'{string1}' and '{string2}' are not anagrams.\")\n"
   ]
  },
  {
   "cell_type": "markdown",
   "id": "214ce715-8ec5-4b54-ba4e-b422cfd242f1",
   "metadata": {},
   "source": [
    "14. Count vowels and consonants: Write a program that takes a string as input and\n",
    " counts the number of vowels and consonants in it."
   ]
  },
  {
   "cell_type": "code",
   "execution_count": 42,
   "id": "d897e26c-339a-4e26-9981-e2b459ca0242",
   "metadata": {},
   "outputs": [
    {
     "name": "stdout",
     "output_type": "stream",
     "text": [
      "Enter a string:  vivek\n"
     ]
    },
    {
     "name": "stdout",
     "output_type": "stream",
     "text": [
      "Number of vowels: 2\n",
      "Number of consonants: 3\n"
     ]
    }
   ],
   "source": [
    "def count_vowels_and_consonants(input_str):\n",
    "    vowels = \"aeiouAEIOU\"\n",
    "    vowel_count = 0\n",
    "    consonant_count = 0\n",
    "    \n",
    "    for char in input_str:\n",
    "        if char.isalpha():\n",
    "            if char in vowels:\n",
    "                vowel_count += 1\n",
    "            else:\n",
    "                consonant_count += 1\n",
    "\n",
    "    return vowel_count, consonant_count\n",
    "\n",
    "input_str = input(\"Enter a string: \")\n",
    "vowels, consonants = count_vowels_and_consonants(input_str)\n",
    "\n",
    "print(f\"Number of vowels: {vowels}\")\n",
    "print(f\"Number of consonants: {consonants}\")\n"
   ]
  },
  {
   "cell_type": "markdown",
   "id": "d3813c97-80dd-423a-9dba-efad2dd5ca09",
   "metadata": {},
   "source": [
    "15. Binary search algorithm: Implement the binary search algorithm for a sorted list and\n",
    " return the index of a target value."
   ]
  },
  {
   "cell_type": "code",
   "execution_count": 44,
   "id": "a90b1df2-2d0c-4ebf-bb86-47e2354a20b9",
   "metadata": {},
   "outputs": [
    {
     "name": "stdout",
     "output_type": "stream",
     "text": [
      "Target 7 found at index 3.\n"
     ]
    }
   ],
   "source": [
    "def binary_search(arr, target):\n",
    "    left, right = 0, len(arr) - 1\n",
    "    while left <= right:\n",
    "        mid = (left + right) // 2  \n",
    "\n",
    "        if arr[mid] == target:\n",
    "            return mid \n",
    "        elif arr[mid] < target:\n",
    "            left = mid + 1\n",
    "        else:\n",
    "            right = mid - 1 \n",
    "\n",
    "    return -1 \n",
    "arr = [1, 3, 5, 7, 9, 11, 13, 15]\n",
    "target = 7\n",
    "result = binary_search(arr, target)\n",
    "if result != -1:\n",
    "    print(f\"Target {target} found at index {result}.\")\n",
    "else:\n",
    "    print(f\"Target {target} not found in the list.\")\n"
   ]
  },
  {
   "cell_type": "markdown",
   "id": "47b9293e-fa67-4bab-90e3-c654b0df72e5",
   "metadata": {},
   "source": [
    " 16. Check if a list is sorted: Write a function to check if a given list is sorted in ascending\n",
    " order."
   ]
  },
  {
   "cell_type": "code",
   "execution_count": 45,
   "id": "8f2609a1-55cb-4ca8-b24e-3b2a85ccb940",
   "metadata": {},
   "outputs": [
    {
     "name": "stdout",
     "output_type": "stream",
     "text": [
      "The list is sorted.\n"
     ]
    }
   ],
   "source": [
    "def is_sorted(arr):\n",
    "    for i in range(len(arr) - 1):\n",
    "        if arr[i] > arr[i + 1]:\n",
    "            return False \n",
    "    return True  \n",
    "arr = [1, 2, 3, 4, 5] \n",
    "result = is_sorted(arr)\n",
    "if result:\n",
    "    print(\"The list is sorted.\")\n",
    "else:\n",
    "    print(\"The list is not sorted.\")\n"
   ]
  },
  {
   "cell_type": "markdown",
   "id": "7e899fb7-1307-4e6d-b72c-571401457c71",
   "metadata": {},
   "source": [
    "17. Transpose of a matrix: Given a matrix (2D list), write a Python function to calculate the\n",
    " transpose of the matrix."
   ]
  },
  {
   "cell_type": "code",
   "execution_count": 46,
   "id": "7f5b8687-ce4e-4c6e-8e15-c493923b89ba",
   "metadata": {},
   "outputs": [
    {
     "name": "stdout",
     "output_type": "stream",
     "text": [
      "[1, 4, 7]\n",
      "[2, 5, 8]\n",
      "[3, 6, 9]\n"
     ]
    }
   ],
   "source": [
    "def transpose_matrix(matrix):\n",
    "    rows = len(matrix)\n",
    "    cols = len(matrix[0])\n",
    "    transpose = [[0] * rows for _ in range(cols)]\n",
    "    for i in range(rows):\n",
    "        for j in range(cols):\n",
    "            transpose[j][i] = matrix[i][j]\n",
    "    return transpose\n",
    "matrix = [\n",
    "    [1, 2, 3],\n",
    "    [4, 5, 6],\n",
    "    [7, 8, 9]\n",
    "]\n",
    "result = transpose_matrix(matrix)\n",
    "for row in result:\n",
    "    print(row)"
   ]
  },
  {
   "cell_type": "markdown",
   "id": "19bbfb7a-4f27-4be1-9ef3-72a710774b3c",
   "metadata": {},
   "source": [
    " 18. Sum of digits of a number: Write a recursive function to find the sum of digits of a\n",
    " given number."
   ]
  },
  {
   "cell_type": "code",
   "execution_count": 48,
   "id": "b7b445db-ba77-445a-bfdc-1e4612f0501e",
   "metadata": {},
   "outputs": [
    {
     "name": "stdout",
     "output_type": "stream",
     "text": [
      "Sum of digits of 12345 is: 15\n"
     ]
    }
   ],
   "source": [
    "def sum_of_digits(n):\n",
    "    if n == 0:\n",
    "        return 0\n",
    "    else:\n",
    "        return n % 10 + sum_of_digits(n // 10)\n",
    "number = 12345\n",
    "result = sum_of_digits(number)\n",
    "print(f\"Sum of digits of {number} is: {result}\")\n"
   ]
  },
  {
   "cell_type": "markdown",
   "id": "c98e277a-1e00-49c1-9856-2a7894a5dfdb",
   "metadata": {},
   "source": [
    " 19. Intersection of two lists: Write a program that finds the intersection of two lists (i.e.,\n",
    " common elements between them)."
   ]
  },
  {
   "cell_type": "code",
   "execution_count": 50,
   "id": "be975f33-75b0-4e64-9fab-488add22765c",
   "metadata": {},
   "outputs": [
    {
     "name": "stdout",
     "output_type": "stream",
     "text": [
      "The intersection of [1, 2, 3, 4, 5] and [4, 5, 6, 7, 8] is: [4, 5]\n"
     ]
    }
   ],
   "source": [
    "def intersection_of_lists(list1, list2):\n",
    "    intersection = []\n",
    "    for element in list1:\n",
    "        if element in list2 and element not in intersection:\n",
    "            intersection.append(element) \n",
    "    \n",
    "    return intersection\n",
    "list1 = [1, 2, 3, 4, 5]\n",
    "list2 = [4, 5, 6, 7, 8]\n",
    "result = intersection_of_lists(list1, list2)\n",
    "print(f\"The intersection of {list1} and {list2} is: {result}\")\n"
   ]
  },
  {
   "cell_type": "markdown",
   "id": "8194d672-a6c4-4751-8cab-985285f7b9ec",
   "metadata": {},
   "source": [
    " 20. Find all permutations of a string: Write a program to find all permutations of a given\n",
    " string."
   ]
  },
  {
   "cell_type": "code",
   "execution_count": 51,
   "id": "9d712370-e9f3-40da-a208-b66d4754e68d",
   "metadata": {},
   "outputs": [
    {
     "name": "stdout",
     "output_type": "stream",
     "text": [
      "All permutations of 'abc' are: ['abc', 'acb', 'bac', 'bca', 'cab', 'cba']\n"
     ]
    }
   ],
   "source": [
    "def permute_string(s):\n",
    "    if len(s) <= 1:\n",
    "        return [s]\n",
    "    permutations = []\n",
    "    for i, char in enumerate(s):\n",
    "        remaining = s[:i] + s[i+1:]\n",
    "        for perm in permute_string(remaining):\n",
    "            permutations.append(char + perm)\n",
    "    return permutations\n",
    "input_string = \"abc\"\n",
    "result = permute_string(input_string)\n",
    "print(f\"All permutations of '{input_string}' are: {result}\")\n"
   ]
  }
 ],
 "metadata": {
  "kernelspec": {
   "display_name": "Python 3 (ipykernel)",
   "language": "python",
   "name": "python3"
  },
  "language_info": {
   "codemirror_mode": {
    "name": "ipython",
    "version": 3
   },
   "file_extension": ".py",
   "mimetype": "text/x-python",
   "name": "python",
   "nbconvert_exporter": "python",
   "pygments_lexer": "ipython3",
   "version": "3.12.4"
  }
 },
 "nbformat": 4,
 "nbformat_minor": 5
}
